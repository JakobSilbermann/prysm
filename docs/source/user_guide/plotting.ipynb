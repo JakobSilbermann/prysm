{
 "cells": [
  {
   "cell_type": "markdown",
   "metadata": {},
   "source": [
    "# Plotting\n",
    "\n",
    "This notebook will go over a guide to how plotting works in prysm.  We begin by importing some classes which can be plotted, as well as matplotlib.  Note that while we use specific prysm clases as examples, virtually every class in prysm can be plotted in the same way."
   ]
  },
  {
   "cell_type": "code",
   "execution_count": null,
   "metadata": {},
   "outputs": [],
   "source": [
    "import numpy as np\n",
    "\n",
    "from prysm import (\n",
    "    config,\n",
    "    NollZernike,\n",
    "    PSF)\n",
    "\n",
    "from matplotlib import pyplot as plt\n",
    "plt.style.use('bmh')\n",
    "\n",
    "plt.rcParams.update({'axes.grid': False, 'mathtext.fontset': 'dejavusans'})\n",
    "%matplotlib inline"
   ]
  },
  {
   "cell_type": "markdown",
   "metadata": {},
   "source": [
    "Now we prepare a few prysm objects for plotting.  This code is not relevant to the action of plotting and can be ignored for the purposes of this tutorial."
   ]
  },
  {
   "cell_type": "code",
   "execution_count": null,
   "metadata": {},
   "outputs": [],
   "source": [
    "zernike_coefs = (np.random.rand(36) * 1 / (0.25 * np.arange(37)[1:]))\n",
    "zernike_coefs[:3] = 0\n",
    "zernike_coefs *= 250\n",
    "p = NollZernike(zernike_coefs)\n",
    "ps = PSF.from_pupil(p, 5)"
   ]
  },
  {
   "cell_type": "markdown",
   "metadata": {},
   "source": [
    "First we will examine the practice of plotting in 2D.  This is probably the most common kind of plotting you will do.  For a full reference on the plot2d method, please look at the [API documentation](../api/base_classes.html#prysm._richdata.RichData.plot2d).  The basic invocation works as:"
   ]
  },
  {
   "cell_type": "code",
   "execution_count": null,
   "metadata": {},
   "outputs": [],
   "source": [
    "ps.plot2d()"
   ]
  },
  {
   "cell_type": "markdown",
   "metadata": {},
   "source": [
    "which spans the entire domain by default.  PSFs are usually very compact compared to their domain, so we may like to adjust the axis limits:"
   ]
  },
  {
   "cell_type": "code",
   "execution_count": null,
   "metadata": {},
   "outputs": [],
   "source": [
    "# one axis limit given, ylim will be taken from xlim\n",
    "ps.plot2d(xlim=(-25,50))\n",
    "\n",
    "# or, just give a single number and prysm will duplicate it into symmetric limits for you\n",
    "ps.plot2d(xlim=25)\n",
    "\n",
    "# or, give both x and y limits.\n",
    "ps.plot2d(xlim=(-50,25), ylim=(-25, 50))\n",
    "\n",
    "# They both can be two numbers, or single numbers\n",
    "ps.plot2d(xlim=25, ylim=50)"
   ]
  },
  {
   "cell_type": "markdown",
   "metadata": {},
   "source": [
    "Notice at the end that a tuple of (figure, axis) references are returned by the plot2d function.  These refer to the figure and axis on which the graphics were drawn.\n",
    "\n",
    "The xlim/ylim parameters give a lot of flexibility to adjusting axis limits, which details with teh PSF being compact in x and y.  However, it is also very high dynamic range in z.  For this, we have two built-in options - plotting on a power or log scale:"
   ]
  },
  {
   "cell_type": "code",
   "execution_count": null,
   "metadata": {},
   "outputs": [],
   "source": [
    "# stretch to the 1/4 power, this is an extreme stretch by the standards of many in astronomy\n",
    "ps.plot2d(xlim=75, power=1/4)\n",
    "\n",
    "# use a log scale spanning 6 decades, and a better interpolation scheem for such high dynamic range\n",
    "ps.plot2d(log=True, clim=(1e-6,1), xlim=200, interpolation='bilinear')"
   ]
  },
  {
   "cell_type": "markdown",
   "metadata": {},
   "source": [
    "In this second case we have adjusted the interpolation method to better suit the graphic.  This can be done globally with the config object:"
   ]
  },
  {
   "cell_type": "code",
   "execution_count": null,
   "metadata": {},
   "outputs": [],
   "source": [
    "# the default is lanczos interpolation, which gives a great visual smoothness,\n",
    "# but occasionally suffers from its own complexity\n",
    "ps.plot2d(xlim=25, power=1/3)\n",
    "\n",
    "# now the default is globally changed for any plotting\n",
    "config.interpolation = None\n",
    "ps.plot2d(xlim=25, power=1/3)\n",
    "\n",
    "# but of course we can use whatever we want on a case-by-case basis\n",
    "ps.plot2d(xlim=25, power=1/3, interpolation='bilinear')"
   ]
  },
  {
   "cell_type": "markdown",
   "metadata": {},
   "source": [
    "The colormap can also be changed to any map supported by matplotlib:"
   ]
  },
  {
   "cell_type": "code",
   "execution_count": null,
   "metadata": {},
   "outputs": [],
   "source": [
    "ps.plot2d(xlim=75, power=1/4, cmap='hot')  # hot is pretty popular for visualizing PSFs of IR systems"
   ]
  },
  {
   "cell_type": "markdown",
   "metadata": {},
   "source": [
    "Last, but not least, the labels and colorbar can be turned off, and figure and axis passed into plot2d to draw the graphic on whatever canvas you want (e.g., as part of a grid of subplots, or on a larger figure...)"
   ]
  },
  {
   "cell_type": "code",
   "execution_count": null,
   "metadata": {},
   "outputs": [],
   "source": [
    "fig, ax = plt.subplots(figsize=(7,7))\n",
    "ps.plot2d(fig=fig, ax=ax, show_colorbar=False, show_axlabels=False,\n",
    "          clim=(3e-6,1e0), log=True, interpolation='bilinear')"
   ]
  }
 ],
 "metadata": {
  "kernelspec": {
   "display_name": "Python 3",
   "language": "python",
   "name": "python3"
  },
  "language_info": {
   "codemirror_mode": {
    "name": "ipython",
    "version": 3
   },
   "file_extension": ".py",
   "mimetype": "text/x-python",
   "name": "python",
   "nbconvert_exporter": "python",
   "pygments_lexer": "ipython3",
   "version": "3.7.4"
  }
 },
 "nbformat": 4,
 "nbformat_minor": 2
}
