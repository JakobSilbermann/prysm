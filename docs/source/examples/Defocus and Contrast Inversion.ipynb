{
 "cells": [
  {
   "cell_type": "markdown",
   "metadata": {},
   "source": [
    "# Defocus and contrast inversion\n",
    "\n",
    "In this notebook, we will use prysm to show how contrast inversion occurs as the image is swept out of focus.  We begin by importing the relevant libraries and pieces of prysm:"
   ]
  },
  {
   "cell_type": "code",
   "execution_count": 1,
   "metadata": {},
   "outputs": [],
   "source": [
    "import numpy as np\n",
    "\n",
    "from prysm import NollZernike, PSF, MTF, SiemensStar\n",
    "\n",
    "from matplotlib import pyplot as plt, animation\n",
    "\n",
    "from IPython.display import Video"
   ]
  },
  {
   "cell_type": "markdown",
   "metadata": {},
   "source": [
    "Now we create the source object to be blurred and a sequence of defocus values to interrogate, as well as some matplotlib code:"
   ]
  },
  {
   "cell_type": "code",
   "execution_count": 2,
   "metadata": {},
   "outputs": [],
   "source": [
    "defocus_values = np.linspace(-2, 2, 100)  # 100 defocus values, spanning +/-4 waves of OPD (zernikes are 2r^2)\n",
    "source_img = SiemensStar(64, sinusoidal=False)  # 64 spoke, square bar target Siemens Star\n",
    "\n",
    "Writer = animation.writers['ffmpeg']\n",
    "writer = Writer(fps=12)"
   ]
  },
  {
   "cell_type": "markdown",
   "metadata": {},
   "source": [
    "All that is left is to write the plot loop, which will generate a view of the pupil, MTF, PSF, and blurred image:"
   ]
  },
  {
   "cell_type": "code",
   "execution_count": 3,
   "metadata": {},
   "outputs": [],
   "source": [
    "def plot_loop(idx):\n",
    "    for ax in axs:\n",
    "        ax.cla()\n",
    "    \n",
    "    pu = NollZernike(Z4=defocus_values[idx])\n",
    "    ps = PSF.from_pupil(pu, 4, norm='radiometric')  # pu defaults to diameter of 1, this makes F/4\n",
    "    mt = MTF.from_psf(ps)\n",
    "    blurred = source_img.conv(ps)\n",
    "    blurred.data /= 4500  # arbitrary normalization to get the Siemens Star about the right brightness \n",
    "\n",
    "    # use a faster interpolation to be a bit nicer to RTD servers\n",
    "    pu.plot2d(fig=fig, ax=axs[0], clim=2, show_colorbar=False, interp_method='bilinear')\n",
    "    mt.plot_tan_sag(fig=fig, ax=axs[1])\n",
    "    ps.plot2d(fig=fig, ax=axs[2], axlim=50, show_colorbar=False)\n",
    "    blurred.show(fig=fig, ax=axs[3], show_colorbar=False)\n",
    "    \n",
    "    axs[0].set_title('Pupil OPD')\n",
    "    axs[1].set_title('MTF')\n",
    "    axs[2].set_title('PSF')\n",
    "    axs[3].set_title('Image')\n",
    "\n",
    "    fig.tight_layout()\n",
    "\n",
    "fig, axs = plt.subplots(nrows=2, ncols=2, figsize=(10,10), dpi=72)  # ~720p\n",
    "axs = axs.ravel()\n",
    "ani = animation.FuncAnimation(fig, plot_loop, frames=100, repeat=True)\n",
    "ani.save('../_static/defocus-contrast-inversion.mp4')\n",
    "plt.close(fig)"
   ]
  },
  {
   "cell_type": "markdown",
   "metadata": {},
   "source": [
    "Most of these lines are devoted to plotting, but we:\n",
    "\n",
    "1.  Create a new pupil instance with a specified amount of defocus (Z4)\n",
    "2.  Propagate that to a PSF at F/4\n",
    "3.  Compute the MTF associated with this PSF\n",
    "4.  Blur an image with the PSF\n",
    "5.  Plot all of these things"
   ]
  },
  {
   "cell_type": "markdown",
   "metadata": {},
   "source": [
    "<video src=\"../_static/defocus-contrast-inversion.mp4\" controls>alternative text</video>"
   ]
  },
  {
   "cell_type": "markdown",
   "metadata": {},
   "source": [
    "We can see that as the image moves out of focus, annuli of zero contrast form at increaingly large radii, and in at each the position of the white and black bars reverse.  We also see that the PSF is quite structured, and has many rings of high and low intensity.  This structure in the PSF is a consequence of interference, and is the source of the contrast inversions in the Siemens Star."
   ]
  }
 ],
 "metadata": {
  "kernelspec": {
   "display_name": "Python 3",
   "language": "python",
   "name": "python3"
  },
  "language_info": {
   "codemirror_mode": {
    "name": "ipython",
    "version": 3
   },
   "file_extension": ".py",
   "mimetype": "text/x-python",
   "name": "python",
   "nbconvert_exporter": "python",
   "pygments_lexer": "ipython3",
   "version": "3.7.3"
  }
 },
 "nbformat": 4,
 "nbformat_minor": 2
}
