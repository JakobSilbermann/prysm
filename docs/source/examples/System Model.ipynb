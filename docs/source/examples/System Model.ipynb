{
 "cells": [
  {
   "cell_type": "markdown",
   "metadata": {},
   "source": [
    "# System Modeling\n",
    "\n",
    "In this example we will see how to model an end-to-end optical system using prysm. Our system will have both an objective lens or telescope as well as a sensor with an optical low-pass filter. We begin by importing the relevant classes and setting some visual styles:"
   ]
  },
  {
   "cell_type": "code",
   "execution_count": null,
   "metadata": {},
   "outputs": [],
   "source": [
    "from prysm import FringeZernike, PSF, MTF, PixelAperture, OLPF\n",
    "from matplotlib import pyplot as plt\n",
    "%matplotlib inline\n",
    "plt.style.use('bmh')"
   ]
  },
  {
   "cell_type": "markdown",
   "metadata": {},
   "source": [
    "Next we model the PSF of the objective, given its aperture, focal length, and Zernike coefficients for its wavefront, such as from a Shack-Hartmann sensor or interferometer:"
   ]
  },
  {
   "cell_type": "code",
   "execution_count": null,
   "metadata": {},
   "outputs": [],
   "source": [
    "# data from a wavefront sensor, optical design program, etc...\n",
    "coefficients = [0, 0, 0, 0, 0.1, 0.1, -0.025, -0.025, 0.1]\n",
    "\n",
    "# a circular aperture inscribed in a square 10mm on a side with 50mm EFL\n",
    "# note the default mask is a circle, so the kwarg is somewhat redundant here.\n",
    "pupil = FringeZernike(coefficients, dia=10, transmission='circle', z_unit='um', norm=True)\n",
    "psf = PSF.from_pupil(pupil, efl=40)  # F/2"
   ]
  },
  {
   "cell_type": "code",
   "execution_count": null,
   "metadata": {},
   "outputs": [],
   "source": [
    "pupil.y"
   ]
  },
  {
   "cell_type": "markdown",
   "metadata": {},
   "source": [
    "Here we have implicitly accepted the default wavelength of 0.5 microns, and Q factor of 2 (Nyquist sampling) which are usually sane defaults. The pupil is circular and is sufficiently described by a Zernike expansion up to Z9.\n",
    "\n",
    "We can plot the wavefront or PSF of the objective.  The wavefront will appear to not quite fill the array, but this is just an artifact of the default lanczos interpolation and relatively few samples."
   ]
  },
  {
   "cell_type": "code",
   "execution_count": null,
   "metadata": {},
   "outputs": [],
   "source": [
    "fig, ax = pupil.plot2d(interpolation='nearest')\n",
    "ax.grid(False)\n",
    "ax.set_title('Wavefront')\n",
    "\n",
    "fig, ax = psf.plot2d(xlim=20, power=1/2)  # 1/2 stretch, colorbar scales as well.\n",
    "ax.grid(False)\n",
    "ax.set_title('PSF');"
   ]
  },
  {
   "cell_type": "markdown",
   "metadata": {},
   "source": [
    "or compute its MTF.  Note that \"tan\" and \"sag\" here accept the assumption of optical design code that we are looking at an object extended in Y, with no extent in X.  For example, this means we could be at an (x,y) field point of (0, 1) degrees.  On-axis, tan and sag are simply misgnomers for the \"x\" and \"y\" MTFs."
   ]
  },
  {
   "cell_type": "code",
   "execution_count": null,
   "metadata": {},
   "outputs": [],
   "source": [
    "mtf = MTF.from_psf(psf)\n",
    "mtf.slices().plot(['x', 'y', 'azavg'], xlim=(0,200))"
   ]
  },
  {
   "cell_type": "code",
   "execution_count": null,
   "metadata": {},
   "outputs": [],
   "source": [
    "pixel_pitch = 5  # 5 micron diameter pixels\n",
    "aa_filter = OLPF(pixel_pitch*0.66)\n",
    "pixel = PixelAperture(pixel_pitch)\n",
    "sys_psf = psf.conv(aa_filter).conv(pixel).renorm()  # renorm so max=1"
   ]
  },
  {
   "cell_type": "markdown",
   "metadata": {},
   "source": [
    "We can plot the system PSF, which is abstract since it includes the pixel aperture.  You would not normally look at this, but prysm doesn't stop you from doing that."
   ]
  },
  {
   "cell_type": "code",
   "execution_count": null,
   "metadata": {},
   "outputs": [],
   "source": [
    "sys_psf.plot2d(xlim=20, interpolation='lanczos', power=1/2)  # sys_psf is a Convolvable, not a PSF.\n",
    "plt.grid(False)"
   ]
  },
  {
   "cell_type": "code",
   "execution_count": null,
   "metadata": {},
   "outputs": [],
   "source": [
    "sys_mtf = MTF.from_psf(sys_psf)\n",
    "sys_mtf.slices().plot(['x', 'y', 'azavg'], xlim=(0,200))"
   ]
  },
  {
   "cell_type": "markdown",
   "metadata": {},
   "source": [
    "We see the system MTF reach zero at 200 cy/mm, as would be expected for a 5 micron pixel.  We also see the PSF is significantly squared off, since the pixel aperture contribution is larger than that of the optical system.\n",
    "\n",
    "For more information on the classes used, see [Zernikes](../user_guide/Zernikes.ipynb), [PSFs](../user_guide/PSFs.ipynb), [MTFs](../user_guide/MTFs.ipynb), and [PixelApertures, OLPFs, and convolutions.](../user_guide/Convolvables.ipynb)"
   ]
  }
 ],
 "metadata": {
  "kernelspec": {
   "display_name": "Python 3",
   "language": "python",
   "name": "python3"
  },
  "language_info": {
   "codemirror_mode": {
    "name": "ipython",
    "version": 3
   },
   "file_extension": ".py",
   "mimetype": "text/x-python",
   "name": "python",
   "nbconvert_exporter": "python",
   "pygments_lexer": "ipython3",
   "version": "3.7.4"
  }
 },
 "nbformat": 4,
 "nbformat_minor": 2
}
